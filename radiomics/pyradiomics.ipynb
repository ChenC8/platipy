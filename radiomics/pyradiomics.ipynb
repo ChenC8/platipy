{
 "cells": [
  {
   "cell_type": "markdown",
   "metadata": {},
   "source": [
    "# PyRadiomics Sample Notebook\n",
    "\n",
    "This notebook demonstrates how to convert Dicom data to Nifti and generate radiomics features using pyradiomics"
   ]
  },
  {
   "cell_type": "code",
   "execution_count": null,
   "metadata": {},
   "outputs": [],
   "source": [
    "import sys, os\n",
    "sys.path.append('../..')\n",
    "\n",
    "import SimpleITK as sitk\n",
    "import pandas as pd\n",
    "from radiomics import firstorder, glcm\n",
    "\n",
    "from impit.dicom.rtstruct_to_nifti.convert import convert_rtstruct"
   ]
  },
  {
   "cell_type": "markdown",
   "metadata": {},
   "source": [
    "### Convert image series\n",
    "First the image series is converted to Nifti"
   ]
  },
  {
   "cell_type": "code",
   "execution_count": null,
   "metadata": {},
   "outputs": [],
   "source": [
    "# Convert Image series\n",
    "path_to_image_series = \"../dicom/data/phantom/CT\"\n",
    "series_files = sitk.ImageSeriesReader().GetGDCMSeriesFileNames(path_to_image_series)\n",
    "image = sitk.ReadImage(series_files)"
   ]
  },
  {
   "cell_type": "markdown",
   "metadata": {},
   "source": [
    "### Convert contours\n",
    "Next the contours within an RTStruct are converted to individual Nifti masks"
   ]
  },
  {
   "cell_type": "code",
   "execution_count": null,
   "metadata": {},
   "outputs": [],
   "source": [
    "# Convert RTStructs to masks\n",
    "path_to_rt_struct = \"../dicom/data/phantom/RTStruct.dcm\"\n",
    "pre = 'Test_'\n",
    "output_dir = 'test_output_nifti'\n",
    "output_img = 'img.nii.gz'\n",
    "\n",
    "# Run the function\n",
    "convert_rtstruct(path_to_image_series, path_to_rt_struct, prefix=pre, output_dir=output_dir, output_img=output_img)"
   ]
  },
  {
   "cell_type": "markdown",
   "metadata": {},
   "source": [
    "### Extract Radiomics\n",
    "Finally, radiomics are extracted within each contour using pyradiomics"
   ]
  },
  {
   "cell_type": "code",
   "execution_count": null,
   "metadata": {},
   "outputs": [],
   "source": [
    "# pyradiomics settings\n",
    "settings = {}\n",
    "settings['binWidth'] = 25\n",
    "settings['resampledPixelSpacing'] = None\n",
    "settings['interpolator'] = 'sitkBSpline'\n",
    "settings['verbose'] = True\n",
    "\n",
    "# Run pyradiomics on each of the masks\n",
    "nifti_image_path = os.path.join(output_dir, output_img)\n",
    "image = sitk.ReadImage(nifti_image_path)\n",
    "\n",
    "# For each mask in the nifti directory\n",
    "rad = {}\n",
    "for f in os.listdir(output_dir):\n",
    "    \n",
    "    if not f.startswith(pre):\n",
    "        continue\n",
    "        \n",
    "    print(\"Processing: {0}\".format(f))\n",
    "    \n",
    "    mask_file = os.path.join(output_dir, f)\n",
    "    mask = sitk.ReadImage(mask_file)\n",
    "\n",
    "    firstOrderFeatures = firstorder.RadiomicsFirstOrder(image, mask, **settings)\n",
    "    firstOrderFeatures.enableAllFeatures()\n",
    "    firstorderresult = firstOrderFeatures.execute()\n",
    "\n",
    "    glcmFeatures = glcm.RadiomicsGLCM(image, mask, **settings)\n",
    "    glcmFeatures.enableAllFeatures()\n",
    "    glcmresult = glcmFeatures.execute()\n",
    "\n",
    "    # Merge the results:\n",
    "    result = {**firstorderresult, **glcmresult}\n",
    "\n",
    "    contour_name = mask_file.split('.')[0].split('\\\\')[-1]\n",
    "\n",
    "    rad[contour_name] = result\n",
    "\n",
    "# Convert to Pandas dataframe\n",
    "rad_frame = pd.DataFrame.from_dict(rad)\n",
    "rad_frame = rad_frame.transpose()\n",
    "display(rad_frame)"
   ]
  },
  {
   "cell_type": "code",
   "execution_count": null,
   "metadata": {},
   "outputs": [],
   "source": []
  }
 ],
 "metadata": {
  "kernelspec": {
   "display_name": "Python 3",
   "language": "python",
   "name": "python3"
  },
  "language_info": {
   "codemirror_mode": {
    "name": "ipython",
    "version": 3
   },
   "file_extension": ".py",
   "mimetype": "text/x-python",
   "name": "python",
   "nbconvert_exporter": "python",
   "pygments_lexer": "ipython3",
   "version": "3.6.5"
  }
 },
 "nbformat": 4,
 "nbformat_minor": 2
}
