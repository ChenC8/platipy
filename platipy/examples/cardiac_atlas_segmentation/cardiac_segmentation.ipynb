{
 "cells": [
  {
   "cell_type": "code",
   "execution_count": null,
   "metadata": {},
   "outputs": [],
   "source": [
    "\"\"\"\n",
    "Import modules\n",
    "\"\"\"\n",
    "\n",
    "import numpy as np\n",
    "import SimpleITK as sitk\n",
    "import matplotlib.pyplot as plt\n",
    "\n",
    "from scipy.ndimage import measurements\n",
    "\n",
    "%matplotlib inline\n",
    "\n",
    "from platipy.segmentation.tests.pull_data import get_lung_data\n",
    "from platipy.segmentation.cardiac.run import run_cardiac_segmentation"
   ]
  },
  {
   "cell_type": "code",
   "execution_count": null,
   "metadata": {
    "tags": []
   },
   "outputs": [],
   "source": [
    "\"\"\"\n",
    "This will download lung cancer patient CT scans, with contours of several structures.\n",
    "This only has to be done once - if it is ran again don't worry, the same data will not be downloaded again!\n",
    "\"\"\"\n",
    "\n",
    "images = get_lung_data(number_of_patients=10)"
   ]
  },
  {
   "cell_type": "code",
   "execution_count": null,
   "metadata": {},
   "outputs": [],
   "source": [
    "\"\"\"\n",
    "We define the settings used for the end-to-end segmentation\n",
    "Check out the guide in \"PlatiPy-GettingStarted.pdf\" for a description of these settings\n",
    "\"\"\"\n",
    "\n",
    "settings = {\n",
    "    \"outputFormat\": \"Auto_{0}.nii.gz\",\n",
    "    \"atlasSettings\": {\n",
    "        \"atlasIdList\": [\"001\",\"002\",\"003\",\"004\",\"005\",\"006\",\"007\"],\n",
    "        \"atlasStructures\": [\"Heart\",\"Esophagus\",\"Lung_L\",\"Lung_R\",\"SpinalCord\"],\n",
    "        \"atlasPath\": \"../tests/data/dynamic/lung\",\n",
    "        \"atlasImageFormat\": \"LCTSC-Train-S1-{0}/CT.nii.gz\",\n",
    "        \"atlasLabelFormat\": \"LCTSC-Train-S1-{0}/Struct_{1}.nii.gz\",\n",
    "        \"autoCropAtlas\":True\n",
    "    },\n",
    "    \"autoCropSettings\": {\"expansion\": [0,0,0],},\n",
    "    \"rigidSettings\": {\n",
    "        \"initialReg\": \"Similarity\",\n",
    "        \"options\": {\n",
    "            \"shrinkFactors\": [16, 8, 4, 2],\n",
    "            \"smoothSigmas\": [0, 0, 0, 0],\n",
    "            \"samplingRate\": 0.75,\n",
    "            \"defaultValue\": -1024,\n",
    "            \"numberOfIterations\": 50,\n",
    "            \"finalInterp\": sitk.sitkBSpline,\n",
    "            \"metric\": \"mean_squares\",\n",
    "            \"optimiser\": \"gradient_descent\"\n",
    "        },\n",
    "        \"trace\": False,\n",
    "        \"guideStructure\": False,\n",
    "    },\n",
    "    \"deformableSettings\": {\n",
    "        \"isotropicResample\": True,\n",
    "        \"resolutionStaging\": [16, 8, 2],  # specify voxel size (mm) since isotropic_resample is set\n",
    "        \"iterationStaging\": [15, 15, 15],\n",
    "        \"smoothingSigmas\": [4, 2, 1],\n",
    "        \"ncores\": 8,\n",
    "        \"trace\": False,\n",
    "    },\n",
    "    \"IARSettings\": {\n",
    "        \"referenceStructure\": \"Heart\",\n",
    "        \"smoothDistanceMaps\": True,\n",
    "        \"smoothSigma\": 1,\n",
    "        \"zScoreStatistic\": \"MAD\",\n",
    "        \"outlierMethod\": \"IQR\",\n",
    "        \"outlierFactor\": 1.5,\n",
    "        \"minBestAtlases\": 5,\n",
    "        \"project_on_sphere\": False,\n",
    "    },\n",
    "    \"labelFusionSettings\": {\n",
    "        \"voteType\": \"unweighted\",\n",
    "        \"voteParams\": {},  # No parameters needed for majority voting\n",
    "        \"optimalThreshold\": {\"Heart\":0.5,\n",
    "                             \"Esophagus\":0.5,\n",
    "                             \"Lung_L\":0.5,\n",
    "                             \"Lung_R\":0.5,},\n",
    "    },\n",
    "    \"vesselSpliningSettings\": {\n",
    "        \"vesselNameList\": [\"SpinalCord\"],\n",
    "        \"vesselRadius_mm\": {\"SpinalCord\": 6},\n",
    "        \"spliningDirection\": {\"SpinalCord\": \"z\"},\n",
    "        \"stopCondition\": {\"SpinalCord\": \"count\"},\n",
    "        \"stopConditionValue\": {\"SpinalCord\": 1},\n",
    "    },\n",
    "}"
   ]
  },
  {
   "cell_type": "code",
   "execution_count": null,
   "metadata": {},
   "outputs": [],
   "source": [
    "\"\"\"\n",
    "Read in the image we want to automatically segment\n",
    "\"\"\"\n",
    "\n",
    "test_image = sitk.ReadImage('../tests/data/dynamic/lung/LCTSC-Train-S1-008/CT.nii.gz')"
   ]
  },
  {
   "cell_type": "code",
   "execution_count": null,
   "metadata": {
    "tags": [
     "outputPrepend"
    ]
   },
   "outputs": [],
   "source": [
    "\"\"\"\n",
    "Run autosegmentation!\n",
    "This will take some time, and will print updates along the way\n",
    "\"\"\"\n",
    "\n",
    "auto_structures = run_cardiac_segmentation(test_image, settings)"
   ]
  },
  {
   "cell_type": "code",
   "execution_count": null,
   "metadata": {},
   "outputs": [],
   "source": [
    "\"\"\"\n",
    "Optionally write the automatic segmentations to disk\n",
    "\"\"\"\n",
    "output_name = settings[\"outputFormat\"]\n",
    "\n",
    "for struct_name in list(auto_structures.keys()):\n",
    "    sitk.WriteImage(auto_structures[struct_name], output_name.format(struct_name))"
   ]
  },
  {
   "cell_type": "code",
   "execution_count": null,
   "metadata": {},
   "outputs": [],
   "source": [
    "\"\"\"\n",
    "Next, we can generate a nice figure to check what the segmentation looks like\n",
    "\n",
    "The first step here is to convert SimpleITK images to NumPy arrays\n",
    "\"\"\"\n",
    "\n",
    "image_arr = sitk.GetArrayFromImage(test_image)\n",
    "auto_structures_arr = {struct:sitk.GetArrayFromImage(auto_structures[struct]) for struct in auto_structures.keys()}"
   ]
  },
  {
   "cell_type": "code",
   "execution_count": null,
   "metadata": {},
   "outputs": [],
   "source": [
    "\"\"\"\n",
    "Next, we define where the orthogonal image slices will pass through, as well as the figure size and colours used for contours\n",
    "\"\"\"\n",
    "\n",
    "z,y,x = np.array(measurements.center_of_mass(auto_structures_arr['Heart']), dtype=np.int)\n",
    "\n",
    "(SagSize, CorSize, AxSize) = test_image.GetSize()\n",
    "spPlane, _, spSlice = test_image.GetSpacing()\n",
    "asp = (spSlice/spPlane)\n",
    "\n",
    "fSize = (6, 6.0*(asp*AxSize+CorSize)/(1.0*SagSize+CorSize))\n",
    "\n",
    "color_list = plt.cm.Spectral(np.linspace(0,1,len(auto_structures_arr.keys())))"
   ]
  },
  {
   "cell_type": "code",
   "execution_count": null,
   "metadata": {
    "tags": []
   },
   "outputs": [],
   "source": [
    "\"\"\"\n",
    "Now generate the figure, which should be displayed below!\n",
    "\"\"\"\n",
    "\n",
    "fig, ((axAx, blank), (axCor, axSag)) = plt.subplots(2, 2, figsize=fSize,gridspec_kw = {'height_ratios':[CorSize,asp*AxSize],'width_ratios': [SagSize,CorSize]})\n",
    "blank.axis('off')\n",
    "\n",
    "imAx = axAx.imshow(image_arr[z,:,:], cmap=plt.cm.gray)\n",
    "axAx.axis('off')\n",
    "\n",
    "imCor = axCor.imshow(image_arr[:,y,:], origin='lower', aspect=asp, cmap=plt.cm.gray)\n",
    "axCor.axis('off')\n",
    "\n",
    "imSag = axSag.imshow(image_arr[:,:,x], origin='lower', aspect=asp, cmap=plt.cm.gray)\n",
    "axSag.axis('off')\n",
    "\n",
    "for i, struct in enumerate(auto_structures.keys()):\n",
    "    colour = color_list[i,:3]\n",
    "    temp = axAx.contour(auto_structures_arr[struct][z,:,:], levels=[0], linewidths=2, colors=[colour])\n",
    "    temp.collections[0].set_label(struct)\n",
    "    axCor.contour(auto_structures_arr[struct][:,y,:], levels=[0], linewidths=2, colors=[colour])\n",
    "    axSag.contour(auto_structures_arr[struct][:,:,x], levels=[0], linewidths=2, colors=[colour])\n",
    "\n",
    "vmin = -250; window=500\n",
    "imAx.set_clim(vmin,vmin+window)\n",
    "imCor.set_clim(vmin,vmin+window)\n",
    "imSag.set_clim(vmin,vmin+window)\n",
    "\n",
    "axAx.legend(loc='center left', bbox_to_anchor=(1.05,0.5))\n",
    "\n",
    "fig.subplots_adjust(left=0, right=1, wspace=0.01, hspace=0.01, top=1, bottom=0)"
   ]
  },
  {
   "cell_type": "code",
   "execution_count": null,
   "metadata": {},
   "outputs": [],
   "source": []
  }
 ],
 "metadata": {
  "language_info": {
   "codemirror_mode": {
    "name": "ipython",
    "version": 3
   },
   "file_extension": ".py",
   "mimetype": "text/x-python",
   "name": "python",
   "nbconvert_exporter": "python",
   "pygments_lexer": "ipython3",
   "version": "3.6.9-final"
  },
  "orig_nbformat": 2,
  "kernelspec": {
   "name": "python36964bit8c67fd8b8e0b4d3bb8ba979823cb1193",
   "display_name": "Python 3.6.9 64-bit"
  }
 },
 "nbformat": 4,
 "nbformat_minor": 2
}