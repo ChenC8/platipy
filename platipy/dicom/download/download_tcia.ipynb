{
 "metadata": {
  "language_info": {
   "codemirror_mode": {
    "name": "ipython",
    "version": 3
   },
   "file_extension": ".py",
   "mimetype": "text/x-python",
   "name": "python",
   "nbconvert_exporter": "python",
   "pygments_lexer": "ipython3",
   "version": "3.6.9-final"
  },
  "orig_nbformat": 2,
  "kernelspec": {
   "name": "python3",
   "display_name": "Python 3.6.9 64-bit",
   "metadata": {
    "interpreter": {
     "hash": "767d51c1340bd893661ea55ea3124f6de3c7a262a8b4abca0554b478b1e2ff90"
    }
   }
  }
 },
 "nbformat": 4,
 "nbformat_minor": 2,
 "cells": [
  {
   "source": [
    "# Download data from TCIA\n",
    "\n",
    "This example Jupyter notebook demonstrates how to download data from The Cancer Imaging Archive (TCIA). Finally the data is visualised using the ImageVisualiser class within PlatiPy"
   ],
   "cell_type": "markdown",
   "metadata": {}
  },
  {
   "cell_type": "code",
   "execution_count": 1,
   "metadata": {},
   "outputs": [
    {
     "output_type": "stream",
     "name": "stdout",
     "text": [
      "Collecting git+https://github.com/pyplati/platipy.git\n",
      "  Cloning https://github.com/pyplati/platipy.git to /tmp/pip-req-build-c9zh4b0m\n",
      "  Running command git clone -q https://github.com/pyplati/platipy.git /tmp/pip-req-build-c9zh4b0m\n",
      "^C\n",
      "\u001b[31mERROR: Operation cancelled by user\u001b[0m\n"
     ]
    }
   ],
   "source": [
    "# Is platipy alread installed in your environment? If not run this cell to install it.\n",
    "!pip install git+https://github.com/pyplati/platipy.git"
   ]
  },
  {
   "source": [
    "### Import some functions to be able to download "
   ],
   "cell_type": "markdown",
   "metadata": {}
  },
  {
   "cell_type": "code",
   "execution_count": 1,
   "metadata": {},
   "outputs": [],
   "source": [
    "# Functions to download from TCIA\n",
    "from platipy.dicom.download.tcia import (\n",
    "    get_collections,\n",
    "    get_modalities_in_collection,\n",
    "    get_patients_in_collection,\n",
    "    fetch_data\n",
    ")\n",
    "\n",
    "# Functions to convert data downloaded\n",
    "\n",
    "# Functions to visualise images\n"
   ]
  },
  {
   "source": [
    "## Let's get a list of all collections available in TCIA\n",
    "\n",
    "You can also browse the list of collections available here: https://www.cancerimagingarchive.net/collections/"
   ],
   "cell_type": "markdown",
   "metadata": {}
  },
  {
   "cell_type": "code",
   "execution_count": 2,
   "metadata": {},
   "outputs": [],
   "source": [
    "collections = get_collections()"
   ]
  },
  {
   "source": [
    "## Let's use the 'HNSCC-3DCT-RT' collection\n",
    "\n",
    "In this cell we check what modalities are available with the collection"
   ],
   "cell_type": "markdown",
   "metadata": {}
  },
  {
   "cell_type": "code",
   "execution_count": 3,
   "metadata": {},
   "outputs": [
    {
     "output_type": "stream",
     "name": "stdout",
     "text": [
      "Modalities available: ['CT', 'RTSTRUCT', 'RTDOSE']\n"
     ]
    }
   ],
   "source": [
    "collection = 'HNSCC-3DCT-RT'\n",
    "modalities = get_modalities_in_collection(collection)\n",
    "print(f\"Modalities available: {modalities}\")\n"
   ]
  },
  {
   "source": [
    "## Next let's see find the patients available in the collection"
   ],
   "cell_type": "markdown",
   "metadata": {}
  },
  {
   "cell_type": "code",
   "execution_count": 4,
   "metadata": {},
   "outputs": [],
   "source": [
    "patients = get_patients_in_collection(collection)"
   ]
  },
  {
   "source": [
    "## Let's pull the CT, RTSTRUCT and RTDOSE for the first patient\n",
    "\n",
    "The fetch_data function will download the DICOM data from TCIA and will then convert it to NIFTI format for use within platipy.\n"
   ],
   "cell_type": "markdown",
   "metadata": {}
  },
  {
   "cell_type": "code",
   "execution_count": 5,
   "metadata": {
    "tags": [
     "outputPrepend"
    ]
   },
   "outputs": [
    {
     "output_type": "stream",
     "name": "stderr",
     "text": [
      "ctory_crawler.conversion_utils:transform_point_set_from_dicom_struct:198 -     Converting structure 28 with name: Opt54\n",
      "2021-02-19 02:48:27.634 | INFO     | platipy.dicom.dicom_directory_crawler.conversion_utils:transform_point_set_from_dicom_struct:198 -     Converting structure 29 with name: Parotid_L-PTV60\n",
      "2021-02-19 02:48:28.348 | INFO     | platipy.dicom.dicom_directory_crawler.conversion_utils:transform_point_set_from_dicom_struct:198 -     Converting structure 30 with name: Parotid_R-PTV54\n",
      "2021-02-19 02:48:29.345 | INFO     | platipy.dicom.dicom_directory_crawler.conversion_utils:transform_point_set_from_dicom_struct:198 -     Converting structure 31 with name: PTV60+NODES_60\n",
      "2021-02-19 02:48:31.648 | INFO     | platipy.dicom.dicom_directory_crawler.conversion_utils:transform_point_set_from_dicom_struct:198 -     Converting structure 32 with name: Dose_5950[cGy]\n",
      "2021-02-19 02:48:32.851 | INFO     | platipy.dicom.dicom_directory_crawler.conversion_utils:transform_point_set_from_dicom_struct:198 -     Converting structure 33 with name: Dose_6600[cGy]\n",
      "2021-02-19 02:48:34.251 | INFO     | platipy.dicom.dicom_directory_crawler.conversion_utils:transform_point_set_from_dicom_struct:198 -     Converting structure 34 with name: 5400_control\n",
      "2021-02-19 02:48:35.139 | INFO     | platipy.dicom.dicom_directory_crawler.conversion_utils:transform_point_set_from_dicom_struct:198 -     Converting structure 35 with name: Dose_7700[cGy]\n",
      "2021-02-19 02:48:36.044 | INFO     | platipy.dicom.dicom_directory_crawler.conversion_utils:transform_point_set_from_dicom_struct:198 -     Converting structure 36 with name: Dose_5940[cGy]\n",
      "2021-02-19 02:48:37.333 | INFO     | platipy.dicom.dicom_directory_crawler.conversion_utils:transform_point_set_from_dicom_struct:198 -     Converting structure 37 with name: Dose_7550[cGy]\n",
      "2021-02-19 02:48:38.143 | INFO     | platipy.dicom.dicom_directory_crawler.conversion_utils:transform_point_set_from_dicom_struct:198 -     Converting structure 38 with name: Dose_5940[cGy]11\n",
      "2021-02-19 02:48:39.442 | INFO     | platipy.dicom.dicom_directory_crawler.conversion_utils:transform_point_set_from_dicom_struct:198 -     Converting structure 39 with name: CTV_IR0\n",
      "2021-02-19 02:48:40.443 | INFO     | platipy.dicom.dicom_directory_crawler.conversion_utils:transform_point_set_from_dicom_struct:198 -     Converting structure 40 with name: CTV_LR0\n",
      "2021-02-19 02:48:41.504 | INFO     | platipy.dicom.dicom_directory_crawler.conversion_utils:transform_point_set_from_dicom_struct:198 -     Converting structure 41 with name: b\n",
      "2021-02-19 02:49:03.219 | INFO     | platipy.dicom.dicom_directory_crawler.conversion_utils:transform_point_set_from_dicom_struct:198 -     Converting structure 42 with name: b0\n",
      "2021-02-19 02:49:16.282 | INFO     | platipy.dicom.dicom_directory_crawler.conversion_utils:transform_point_set_from_dicom_struct:198 -     Converting structure 43 with name: sc0\n",
      "2021-02-19 02:49:17.810 | INFO     | platipy.dicom.dicom_directory_crawler.conversion_utils:transform_point_set_from_dicom_struct:198 -     Converting structure 44 with name: Parotid_R0\n",
      "2021-02-19 02:49:19.792 | INFO     | platipy.dicom.dicom_directory_crawler.conversion_utils:process_dicom_directory:812 -   Parent sorting field (PatientName) match found: HN_P001\n",
      "2021-02-19 02:49:19.796 | INFO     | platipy.dicom.dicom_directory_crawler.conversion_utils:process_dicom_directory:828 -   Setting study instance UID index: 1\n",
      "2021-02-19 02:49:19.958 | INFO     | platipy.dicom.dicom_directory_crawler.conversion_utils:process_dicom_series:312 -   Processing series UID: 1.3.6.1.4.1.14519.5.2.1.2193.7172.213829633731477406061229987947\n",
      "2021-02-19 02:49:19.964 | INFO     | platipy.dicom.dicom_directory_crawler.conversion_utils:process_dicom_series:318 -   Number of DICOM files: 1\n",
      "2021-02-19 02:49:21.497 | INFO     | platipy.dicom.dicom_directory_crawler.conversion_utils:process_dicom_series:340 -   SOP Class name: RT Dose Storage\n",
      "2021-02-19 02:49:21.504 | INFO     | platipy.dicom.dicom_directory_crawler.conversion_utils:process_dicom_series:554 -       Number of files: 1\n",
      "2021-02-19 02:49:22.353 | DEBUG    | platipy.dicom.dicom_directory_crawler.conversion_utils:process_dicom_series:576 -   Dose grid scaling: 7.9006211e-5 Gy\n",
      "2021-02-19 02:49:23.258 | INFO     | platipy.dicom.dicom_directory_crawler.conversion_utils:process_dicom_directory:812 -   Parent sorting field (PatientName) match found: HN_P001\n",
      "2021-02-19 02:49:23.259 | INFO     | platipy.dicom.dicom_directory_crawler.conversion_utils:process_dicom_directory:834 -   Study instance UID index already exists: 1\n",
      "2021-02-19 02:49:23.263 | INFO     | platipy.dicom.dicom_directory_crawler.conversion_utils:process_dicom_series:312 -   Processing series UID: 1.3.6.1.4.1.14519.5.2.1.2193.7172.215111709746721743805035350686\n",
      "2021-02-19 02:49:23.265 | INFO     | platipy.dicom.dicom_directory_crawler.conversion_utils:process_dicom_series:318 -   Number of DICOM files: 198\n",
      "2021-02-19 02:49:23.344 | INFO     | platipy.dicom.dicom_directory_crawler.conversion_utils:process_dicom_series:340 -   SOP Class name: CT Image Storage\n",
      "2021-02-19 02:49:33.464 | INFO     | platipy.dicom.dicom_directory_crawler.conversion_utils:process_dicom_directory:812 -   Parent sorting field (PatientName) match found: HN_P001\n",
      "2021-02-19 02:49:33.467 | INFO     | platipy.dicom.dicom_directory_crawler.conversion_utils:process_dicom_directory:834 -   Study instance UID index already exists: 1\n",
      "2021-02-19 02:49:33.472 | INFO     | platipy.dicom.dicom_directory_crawler.conversion_utils:get_dicom_info_from_description:31 -     Image modality: CT\n",
      "2021-02-19 02:49:33.474 | WARNING  | platipy.dicom.dicom_directory_crawler.conversion_utils:get_dicom_info_from_description:43 -     Could not find ProtocolName\n",
      "2021-02-19 02:49:33.476 | INFO     | platipy.dicom.dicom_directory_crawler.conversion_utils:process_dicom_series:312 -   Processing series UID: 1.3.6.1.4.1.14519.5.2.1.2193.7172.293685591130774406268429408589\n",
      "2021-02-19 02:49:33.478 | INFO     | platipy.dicom.dicom_directory_crawler.conversion_utils:process_dicom_series:318 -   Number of DICOM files: 1\n",
      "2021-02-19 02:49:34.856 | INFO     | platipy.dicom.dicom_directory_crawler.conversion_utils:process_dicom_series:340 -   SOP Class name: RT Structure Set Storage\n",
      "2021-02-19 02:49:34.858 | INFO     | platipy.dicom.dicom_directory_crawler.conversion_utils:process_dicom_series:497 -       Number of files: 1\n",
      "2021-02-19 02:49:35.726 | INFO     | platipy.dicom.dicom_directory_crawler.conversion_utils:process_dicom_series:529 -       Item 0: Matched SeriesInstanceUID = 1.3.6.1.4.1.14519.5.2.1.2193.7172.330463629978553614441273290520\n",
      "2021-02-19 02:49:42.298 | INFO     | platipy.dicom.dicom_directory_crawler.conversion_utils:transform_point_set_from_dicom_struct:198 -     Converting structure 0 with name: BODY\n",
      "2021-02-19 02:50:04.844 | INFO     | platipy.dicom.dicom_directory_crawler.conversion_utils:transform_point_set_from_dicom_struct:198 -     Converting structure 1 with name: CTV_54\n",
      "2021-02-19 02:50:06.333 | INFO     | platipy.dicom.dicom_directory_crawler.conversion_utils:transform_point_set_from_dicom_struct:198 -     Converting structure 2 with name: Brainstem\n",
      "2021-02-19 02:50:07.142 | INFO     | platipy.dicom.dicom_directory_crawler.conversion_utils:transform_point_set_from_dicom_struct:198 -     Converting structure 3 with name: COCHLEA_L\n",
      "2021-02-19 02:50:12.414 | INFO     | platipy.dicom.dicom_directory_crawler.conversion_utils:transform_point_set_from_dicom_struct:198 -     Converting structure 4 with name: COCHLEA_R\n",
      "2021-02-19 02:50:13.690 | INFO     | platipy.dicom.dicom_directory_crawler.conversion_utils:transform_point_set_from_dicom_struct:198 -     Converting structure 5 with name: CTV_60\n",
      "2021-02-19 02:50:15.117 | INFO     | platipy.dicom.dicom_directory_crawler.conversion_utils:transform_point_set_from_dicom_struct:198 -     Converting structure 6 with name: CTV_60_NODES\n",
      "2021-02-19 02:50:16.311 | INFO     | platipy.dicom.dicom_directory_crawler.conversion_utils:transform_point_set_from_dicom_struct:198 -     Converting structure 7 with name: CTV_70\n",
      "2021-02-19 02:50:17.488 | INFO     | platipy.dicom.dicom_directory_crawler.conversion_utils:transform_point_set_from_dicom_struct:198 -     Converting structure 8 with name: CTV_IR0\n",
      "2021-02-19 02:50:20.788 | INFO     | platipy.dicom.dicom_directory_crawler.conversion_utils:transform_point_set_from_dicom_struct:198 -     Converting structure 9 with name: CTV_LR0\n",
      "2021-02-19 02:50:22.493 | INFO     | platipy.dicom.dicom_directory_crawler.conversion_utils:transform_point_set_from_dicom_struct:198 -     Converting structure 10 with name: GTV_70\n",
      "2021-02-19 02:50:23.395 | INFO     | platipy.dicom.dicom_directory_crawler.conversion_utils:transform_point_set_from_dicom_struct:198 -     Converting structure 11 with name: GTV_70_COMBINED\n",
      "2021-02-19 02:50:24.214 | INFO     | platipy.dicom.dicom_directory_crawler.conversion_utils:transform_point_set_from_dicom_struct:198 -     Converting structure 12 with name: GTV_NODE_70\n",
      "2021-02-19 02:50:24.988 | INFO     | platipy.dicom.dicom_directory_crawler.conversion_utils:transform_point_set_from_dicom_struct:198 -     Converting structure 13 with name: Mandible\n",
      "2021-02-19 02:50:26.397 | INFO     | platipy.dicom.dicom_directory_crawler.conversion_utils:transform_point_set_from_dicom_struct:198 -     Converting structure 14 with name: Optic_Chiasm\n",
      "2021-02-19 02:50:27.094 | INFO     | platipy.dicom.dicom_directory_crawler.conversion_utils:transform_point_set_from_dicom_struct:198 -     Converting structure 15 with name: OPTIC_NERVE_L\n",
      "2021-02-19 02:50:27.095 | WARNING  | platipy.dicom.dicom_directory_crawler.conversion_utils:transform_point_set_from_dicom_struct:210 -     Contour sequence is empty, skipping.\n",
      "2021-02-19 02:50:27.096 | INFO     | platipy.dicom.dicom_directory_crawler.conversion_utils:transform_point_set_from_dicom_struct:198 -     Converting structure 16 with name: OPTIC_NERVE_R\n",
      "2021-02-19 02:50:27.792 | INFO     | platipy.dicom.dicom_directory_crawler.conversion_utils:transform_point_set_from_dicom_struct:198 -     Converting structure 17 with name: LParotid\n",
      "2021-02-19 02:50:28.595 | INFO     | platipy.dicom.dicom_directory_crawler.conversion_utils:transform_point_set_from_dicom_struct:198 -     Converting structure 18 with name: RParotid\n",
      "2021-02-19 02:50:29.399 | INFO     | platipy.dicom.dicom_directory_crawler.conversion_utils:transform_point_set_from_dicom_struct:198 -     Converting structure 19 with name: PTV54\n",
      "2021-02-19 02:50:31.394 | INFO     | platipy.dicom.dicom_directory_crawler.conversion_utils:transform_point_set_from_dicom_struct:198 -     Converting structure 20 with name: PTV60\n",
      "2021-02-19 02:50:32.706 | INFO     | platipy.dicom.dicom_directory_crawler.conversion_utils:transform_point_set_from_dicom_struct:198 -     Converting structure 21 with name: PTV60NODES\n",
      "2021-02-19 02:50:34.212 | INFO     | platipy.dicom.dicom_directory_crawler.conversion_utils:transform_point_set_from_dicom_struct:198 -     Converting structure 22 with name: PTV60+NODES_60\n",
      "2021-02-19 02:50:36.899 | INFO     | platipy.dicom.dicom_directory_crawler.conversion_utils:transform_point_set_from_dicom_struct:198 -     Converting structure 23 with name: Cord\n",
      "2021-02-19 02:50:38.790 | INFO     | platipy.dicom.dicom_directory_crawler.conversion_utils:transform_point_set_from_dicom_struct:198 -     Converting structure 24 with name: LParotid-PTV60\n",
      "2021-02-19 02:50:39.695 | INFO     | platipy.dicom.dicom_directory_crawler.conversion_utils:transform_point_set_from_dicom_struct:198 -     Converting structure 25 with name: Cord+3\n",
      "2021-02-19 02:50:41.507 | INFO     | platipy.dicom.dicom_directory_crawler.conversion_utils:transform_point_set_from_dicom_struct:198 -     Converting structure 26 with name: CouchSurface\n",
      "2021-02-19 02:50:43.969 | INFO     | platipy.dicom.dicom_directory_crawler.conversion_utils:transform_point_set_from_dicom_struct:198 -     Converting structure 27 with name: CouchInterior\n",
      "2021-02-19 02:50:48.786 | INFO     | platipy.dicom.dicom_directory_crawler.conversion_utils:transform_point_set_from_dicom_struct:198 -     Converting structure 28 with name: CouchRailLeft\n",
      "2021-02-19 02:50:59.594 | INFO     | platipy.dicom.dicom_directory_crawler.conversion_utils:transform_point_set_from_dicom_struct:198 -     Converting structure 29 with name: CouchRailRight\n",
      "2021-02-19 02:51:09.843 | INFO     | platipy.dicom.dicom_directory_crawler.conversion_utils:process_dicom_directory:812 -   Parent sorting field (PatientName) match found: HN_P001\n",
      "2021-02-19 02:51:09.859 | INFO     | platipy.dicom.dicom_directory_crawler.conversion_utils:process_dicom_directory:828 -   Setting study instance UID index: 2\n",
      "2021-02-19 02:51:10.053 | INFO     | platipy.dicom.dicom_directory_crawler.conversion_utils:process_dicom_series:312 -   Processing series UID: 1.3.6.1.4.1.14519.5.2.1.2193.7172.329574933994116044160154909094\n",
      "2021-02-19 02:51:10.056 | INFO     | platipy.dicom.dicom_directory_crawler.conversion_utils:process_dicom_series:318 -   Number of DICOM files: 1\n",
      "2021-02-19 02:51:10.605 | INFO     | platipy.dicom.dicom_directory_crawler.conversion_utils:process_dicom_series:340 -   SOP Class name: RT Dose Storage\n",
      "2021-02-19 02:51:10.609 | INFO     | platipy.dicom.dicom_directory_crawler.conversion_utils:process_dicom_series:554 -       Number of files: 1\n",
      "2021-02-19 02:51:10.986 | DEBUG    | platipy.dicom.dicom_directory_crawler.conversion_utils:process_dicom_series:576 -   Dose grid scaling: 8.1366469e-5 Gy\n",
      "2021-02-19 02:51:11.747 | INFO     | platipy.dicom.dicom_directory_crawler.conversion_utils:process_dicom_directory:812 -   Parent sorting field (PatientName) match found: HN_P001\n",
      "2021-02-19 02:51:11.748 | INFO     | platipy.dicom.dicom_directory_crawler.conversion_utils:process_dicom_directory:834 -   Study instance UID index already exists: 1\n",
      "2021-02-19 02:51:11.749 | INFO     | platipy.dicom.dicom_directory_crawler.conversion_utils:process_dicom_directory:970 -       An image with this name exists, appending.\n",
      "2021-02-19 02:51:11.751 | INFO     | platipy.dicom.dicom_directory_crawler.conversion_utils:process_dicom_series:312 -   Processing series UID: 1.3.6.1.4.1.14519.5.2.1.2193.7172.330463629978553614441273290520\n",
      "2021-02-19 02:51:11.753 | INFO     | platipy.dicom.dicom_directory_crawler.conversion_utils:process_dicom_series:318 -   Number of DICOM files: 196\n",
      "2021-02-19 02:51:11.775 | INFO     | platipy.dicom.dicom_directory_crawler.conversion_utils:process_dicom_series:340 -   SOP Class name: CT Image Storage\n",
      "2021-02-19 02:51:29.542 | INFO     | platipy.dicom.dicom_directory_crawler.conversion_utils:process_dicom_directory:812 -   Parent sorting field (PatientName) match found: HN_P001\n",
      "2021-02-19 02:51:29.548 | INFO     | platipy.dicom.dicom_directory_crawler.conversion_utils:process_dicom_directory:834 -   Study instance UID index already exists: 2\n",
      "2021-02-19 02:51:29.551 | INFO     | platipy.dicom.dicom_directory_crawler.conversion_utils:get_dicom_info_from_description:31 -     Image modality: CT\n",
      "2021-02-19 02:51:29.553 | WARNING  | platipy.dicom.dicom_directory_crawler.conversion_utils:get_dicom_info_from_description:43 -     Could not find ProtocolName\n",
      "2021-02-19 02:51:29.554 | INFO     | platipy.dicom.dicom_directory_crawler.conversion_utils:process_dicom_series:312 -   Processing series UID: 1.3.6.1.4.1.14519.5.2.1.2193.7172.336428694928331169835461637548\n",
      "2021-02-19 02:51:29.555 | INFO     | platipy.dicom.dicom_directory_crawler.conversion_utils:process_dicom_series:318 -   Number of DICOM files: 1\n",
      "2021-02-19 02:51:31.726 | INFO     | platipy.dicom.dicom_directory_crawler.conversion_utils:process_dicom_series:340 -   SOP Class name: RT Structure Set Storage\n",
      "2021-02-19 02:51:31.729 | INFO     | platipy.dicom.dicom_directory_crawler.conversion_utils:process_dicom_series:497 -       Number of files: 1\n",
      "2021-02-19 02:51:33.161 | INFO     | platipy.dicom.dicom_directory_crawler.conversion_utils:process_dicom_series:529 -       Item 0: Matched SeriesInstanceUID = 1.3.6.1.4.1.14519.5.2.1.2193.7172.215111709746721743805035350686\n",
      "2021-02-19 02:51:39.019 | INFO     | platipy.dicom.dicom_directory_crawler.conversion_utils:transform_point_set_from_dicom_struct:198 -     Converting structure 0 with name: Body_outline\n",
      "2021-02-19 02:52:03.006 | INFO     | platipy.dicom.dicom_directory_crawler.conversion_utils:transform_point_set_from_dicom_struct:198 -     Converting structure 1 with name: Cord\n",
      "2021-02-19 02:52:04.396 | INFO     | platipy.dicom.dicom_directory_crawler.conversion_utils:transform_point_set_from_dicom_struct:198 -     Converting structure 2 with name: CouchSurface\n",
      "2021-02-19 02:52:06.505 | INFO     | platipy.dicom.dicom_directory_crawler.conversion_utils:transform_point_set_from_dicom_struct:198 -     Converting structure 3 with name: CouchInterior\n",
      "2021-02-19 02:52:08.299 | INFO     | platipy.dicom.dicom_directory_crawler.conversion_utils:transform_point_set_from_dicom_struct:198 -     Converting structure 4 with name: CouchRailLeft\n",
      "2021-02-19 02:52:12.170 | INFO     | platipy.dicom.dicom_directory_crawler.conversion_utils:transform_point_set_from_dicom_struct:198 -     Converting structure 5 with name: CouchRailRight\n",
      "2021-02-19 02:52:17.890 | INFO     | platipy.dicom.dicom_directory_crawler.conversion_utils:transform_point_set_from_dicom_struct:198 -     Converting structure 6 with name: Rparotid\n",
      "2021-02-19 02:52:18.767 | INFO     | platipy.dicom.dicom_directory_crawler.conversion_utils:transform_point_set_from_dicom_struct:198 -     Converting structure 7 with name: Lparotid\n",
      "2021-02-19 02:52:20.177 | INFO     | platipy.dicom.dicom_directory_crawler.conversion_utils:transform_point_set_from_dicom_struct:198 -     Converting structure 8 with name: OPTIC_NERVE_R\n",
      "2021-02-19 02:52:21.169 | INFO     | platipy.dicom.dicom_directory_crawler.conversion_utils:transform_point_set_from_dicom_struct:198 -     Converting structure 9 with name: OPTIC_NERVE_L\n",
      "2021-02-19 02:52:22.462 | INFO     | platipy.dicom.dicom_directory_crawler.conversion_utils:transform_point_set_from_dicom_struct:198 -     Converting structure 10 with name: COCHLEA_R\n",
      "2021-02-19 02:52:23.668 | INFO     | platipy.dicom.dicom_directory_crawler.conversion_utils:transform_point_set_from_dicom_struct:198 -     Converting structure 11 with name: COCHLEA_L\n",
      "2021-02-19 02:52:25.070 | INFO     | platipy.dicom.dicom_directory_crawler.conversion_utils:transform_point_set_from_dicom_struct:198 -     Converting structure 12 with name: Mandible\n",
      "2021-02-19 02:52:26.882 | INFO     | platipy.dicom.dicom_directory_crawler.conversion_utils:transform_point_set_from_dicom_struct:198 -     Converting structure 13 with name: Brainstem\n",
      "2021-02-19 02:52:27.967 | INFO     | platipy.dicom.dicom_directory_crawler.conversion_utils:transform_point_set_from_dicom_struct:198 -     Converting structure 14 with name: Optic_Chiasm\n",
      "2021-02-19 02:52:29.052 | INFO     | platipy.dicom.dicom_directory_crawler.conversion_utils:transform_point_set_from_dicom_struct:198 -     Converting structure 15 with name: Unknown\n",
      "2021-02-19 02:52:29.054 | WARNING  | platipy.dicom.dicom_directory_crawler.conversion_utils:transform_point_set_from_dicom_struct:210 -     Contour sequence is empty, skipping.\n",
      "2021-02-19 02:52:29.057 | INFO     | platipy.dicom.dicom_directory_crawler.conversion_utils:transform_point_set_from_dicom_struct:198 -     Converting structure 16 with name: GTV_70\n",
      "2021-02-19 02:52:30.271 | INFO     | platipy.dicom.dicom_directory_crawler.conversion_utils:transform_point_set_from_dicom_struct:198 -     Converting structure 17 with name: GTV_NODE_70\n",
      "2021-02-19 02:52:31.671 | INFO     | platipy.dicom.dicom_directory_crawler.conversion_utils:transform_point_set_from_dicom_struct:198 -     Converting structure 18 with name: GTV_70_COMBINED\n",
      "2021-02-19 02:52:32.950 | INFO     | platipy.dicom.dicom_directory_crawler.conversion_utils:transform_point_set_from_dicom_struct:198 -     Converting structure 19 with name: CTV_70\n"
     ]
    }
   ],
   "source": [
    "patient_id = patients[0]\n",
    "data = fetch_data(\n",
    "    collection,\n",
    "    patient_ids=[patient_id],\n",
    "    modalities=[\"CT\", \"RTSTRUCT\", \"RTDOSE\"],\n",
    "    nifti=True\n",
    ")"
   ]
  },
  {
   "cell_type": "code",
   "execution_count": null,
   "metadata": {},
   "outputs": [],
   "source": [
    "data[\"NIFTI\"]"
   ]
  },
  {
   "cell_type": "code",
   "execution_count": null,
   "metadata": {},
   "outputs": [],
   "source": []
  }
 ]
}