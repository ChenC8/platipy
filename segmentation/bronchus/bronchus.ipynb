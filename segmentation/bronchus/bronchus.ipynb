{
 "cells": [
  {
   "cell_type": "code",
   "execution_count": null,
   "metadata": {},
   "outputs": [],
   "source": [
    "import sys\n",
    "sys.path.append(\"../../..\")\n",
    "\n",
    "import os\n",
    "\n",
    "from impit.framework.client import IMPITClient\n",
    "from impit.segmentation.tests.pull_test_data import get_bronchus_data\n",
    "\n",
    "from loguru import logger\n",
    "\n",
    "host = \"127.0.0.1\"\n",
    "port = 8001\n",
    "\n",
    "api_key = \"018f9df3-43f7-4efc-9cd2-43c21f0c9556\"\n",
    "\n",
    "algorithm_name = 'Bronchus Segmentation'\n",
    "\n",
    "log_level = \"INFO\" # Choose an appropriate level of logging output: \"DEBUG\" or \"INFO\"\n",
    "\n",
    "logger.remove()\n",
    "handler_id = logger.add(sys.stderr, level=log_level)"
   ]
  },
  {
   "cell_type": "code",
   "execution_count": null,
   "metadata": {},
   "outputs": [],
   "source": [
    "images = get_bronchus_data()"
   ]
  },
  {
   "cell_type": "code",
   "execution_count": null,
   "metadata": {},
   "outputs": [],
   "source": [
    "client = IMPITClient(host, port, api_key, algorithm_name)"
   ]
  },
  {
   "cell_type": "code",
   "execution_count": null,
   "metadata": {},
   "outputs": [],
   "source": [
    "orthanc_location = client.add_dicom_location(name='Orthanc',\n",
    "           host= '127.0.0.1',\n",
    "           port= 4242,\n",
    "           ae_title= 'ORTHANC')"
   ]
  },
  {
   "cell_type": "code",
   "execution_count": null,
   "metadata": {},
   "outputs": [],
   "source": [
    "dataset = client.add_dataset()"
   ]
  },
  {
   "cell_type": "code",
   "execution_count": null,
   "metadata": {},
   "outputs": [],
   "source": [
    "pat_id = list(images.keys())[0]\n",
    "ct_file = images[pat_id]\n",
    "data_object = client.add_data_object(dataset, file_path=ct_file)"
   ]
  },
  {
   "cell_type": "code",
   "execution_count": null,
   "metadata": {},
   "outputs": [],
   "source": [
    "algorithm = client.get_default_settings()"
   ]
  },
  {
   "cell_type": "code",
   "execution_count": null,
   "metadata": {},
   "outputs": [],
   "source": [
    "client.get_dataset(dataset)"
   ]
  },
  {
   "cell_type": "code",
   "execution_count": null,
   "metadata": {},
   "outputs": [],
   "source": [
    "for status in client.run_algorithm(dataset):\n",
    "    print(status)"
   ]
  },
  {
   "cell_type": "code",
   "execution_count": null,
   "metadata": {},
   "outputs": [],
   "source": [
    "output_directory = os.path.join(\".\", \"results\", pat_id)\n",
    "client.download_output_objects(dataset, output_path=output_directory)"
   ]
  },
  {
   "cell_type": "code",
   "execution_count": null,
   "metadata": {},
   "outputs": [],
   "source": []
  }
 ],
 "metadata": {
  "kernelspec": {
   "display_name": "Python 3",
   "language": "python",
   "name": "python3"
  },
  "language_info": {
   "codemirror_mode": {
    "name": "ipython",
    "version": 3
   },
   "file_extension": ".py",
   "mimetype": "text/x-python",
   "name": "python",
   "nbconvert_exporter": "python",
   "pygments_lexer": "ipython3",
   "version": "3.7.6"
  }
 },
 "nbformat": 4,
 "nbformat_minor": 4
}
